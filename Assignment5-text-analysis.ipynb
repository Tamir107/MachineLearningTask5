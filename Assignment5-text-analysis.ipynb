{
 "cells": [
  {
   "cell_type": "markdown",
   "metadata": {},
   "source": [
    "# Assignment 5 - Text Analysis\n",
    "An explanation this assignment could be found in the .pdf explanation document"
   ]
  },
  {
   "cell_type": "markdown",
   "metadata": {},
   "source": [
    "\n",
    "## Materials to review for this assignment\n",
    "<h4>From Moodle:</h4> \n",
    "<h5><u>Review the notebooks regarding the following python topics</u>:</h5>\n",
    "<div class=\"alert alert-info\">\n",
    "&#x2714; <b>Working with strings</b> (tutorial notebook)<br/>\n",
    "&#x2714; <b>Text Analysis</b> (tutorial notebook)<br/>\n",
    "&#x2714; <b>Hebrew text analysis tools (tokenizer, wordnet)</b> (moodle example)<br/>\n",
    "&#x2714; <b>(brief review) All previous notebooks</b><br/>\n",
    "</div> \n",
    "<h5><u>Review the presentations regarding the following topics</u>:</h5>\n",
    "<div class=\"alert alert-info\">\n",
    "&#x2714; <b>Text Analysis</b> (lecture presentation)<br/>\n",
    "&#x2714; <b>(brief review) All other presentations</b><br/>\n",
    "</div>"
   ]
  },
  {
   "cell_type": "markdown",
   "metadata": {},
   "source": [
    "## Preceding Step - import modules (packages)\n",
    "This step is necessary in order to use external modules (packages). <br/>"
   ]
  },
  {
   "cell_type": "code",
   "execution_count": 32,
   "metadata": {},
   "outputs": [],
   "source": [
    "# --------------------------------------\n",
    "import pandas as pd\n",
    "import numpy as np\n",
    "# --------------------------------------\n",
    "\n",
    "\n",
    "# --------------------------------------\n",
    "# ------------- visualizations:\n",
    "import seaborn as sns\n",
    "import matplotlib.pyplot as plt\n",
    "from matplotlib.colors import ListedColormap\n",
    "# --------------------------------------\n",
    "\n",
    "\n",
    "# ---------------------------------------\n",
    "import sklearn\n",
    "from sklearn import preprocessing, metrics, pipeline, model_selection, feature_extraction \n",
    "from sklearn import naive_bayes, linear_model, svm, neural_network, neighbors, tree\n",
    "from sklearn import decomposition, cluster\n",
    "\n",
    "from sklearn.model_selection import train_test_split, cross_val_score, GridSearchCV \n",
    "from sklearn.pipeline import Pipeline\n",
    "from sklearn.metrics import accuracy_score, confusion_matrix\n",
    "from sklearn.metrics import precision_score, recall_score, f1_score\n",
    "from sklearn.metrics import mean_squared_error, r2_score, silhouette_score\n",
    "from sklearn.preprocessing import MinMaxScaler, StandardScaler, LabelEncoder\n",
    "\n",
    "from sklearn.svm import LinearSVC\n",
    "from sklearn.neural_network import MLPClassifier\n",
    "from sklearn.linear_model import Perceptron, SGDClassifier\n",
    "from sklearn.decomposition import PCA\n",
    "from sklearn.cluster import KMeans\n",
    "from sklearn.naive_bayes import MultinomialNB, GaussianNB\n",
    "from sklearn.neighbors import KNeighborsClassifier\n",
    "from sklearn.tree import DecisionTreeClassifier\n",
    "# ---------------------------------------\n",
    "from sklearn.feature_selection import SelectKBest, chi2 ,mutual_info_classif\n",
    "from sklearn.svm import SVC \n",
    "from numpy import mean ,std\n",
    "from sklearn.model_selection import  cross_validate ,RepeatedKFold , RepeatedStratifiedKFold\n",
    "from sklearn.linear_model import LogisticRegression\n",
    "\n",
    "# ----------------- output and visualizations: \n",
    "import warnings\n",
    "from sklearn.exceptions import ConvergenceWarning\n",
    "warnings.simplefilter(\"ignore\")\n",
    "warnings.simplefilter(action='ignore', category=FutureWarning)\n",
    "warnings.simplefilter(\"ignore\", category=ConvergenceWarning)\n",
    "# show several prints in one cell. This will allow us to condence every trick in one cell.\n",
    "from IPython.core.interactiveshell import InteractiveShell\n",
    "InteractiveShell.ast_node_interactivity = \"all\"\n",
    "%matplotlib inline\n",
    "pd.pandas.set_option('display.max_columns', None)\n",
    "pd.set_option('display.float_format', lambda x: '%.3f' % x)\n",
    "# ---------------------------------------"
   ]
  },
  {
   "cell_type": "markdown",
   "metadata": {},
   "source": [
    "### Text analysis and String manipulation imports:"
   ]
  },
  {
   "cell_type": "code",
   "execution_count": 33,
   "metadata": {},
   "outputs": [],
   "source": [
    "# --------------------------------------\n",
    "# --------- Text analysis and Hebrew text analysis imports:\n",
    "# vectorizers:\n",
    "from sklearn.feature_extraction import text\n",
    "from sklearn.feature_extraction.text import CountVectorizer, TfidfVectorizer\n",
    "\n",
    "# regular expressions:\n",
    "import re\n",
    "# --------------------------------------"
   ]
  },
  {
   "cell_type": "markdown",
   "metadata": {},
   "source": [
    "### (optional) Hebrew text analysis - WordNet (for Hebrew)\n",
    "Note: the WordNet is not a must"
   ]
  },
  {
   "cell_type": "markdown",
   "metadata": {},
   "source": [
    "#### (optional) Only if you didn't install Wordnet (for Hebrew) use:"
   ]
  },
  {
   "cell_type": "code",
   "execution_count": 3,
   "metadata": {},
   "outputs": [],
   "source": [
    "# word net installation:\n",
    "\n",
    "# unmark if you want to use and need to install\n",
    "# !pip install wn\n",
    "# !python -m wn download omw-he:1.4"
   ]
  },
  {
   "cell_type": "code",
   "execution_count": 4,
   "metadata": {},
   "outputs": [],
   "source": [
    "# word net import:\n",
    "\n",
    "# unmark if you want to use:\n",
    "# import wn"
   ]
  },
  {
   "cell_type": "markdown",
   "metadata": {},
   "source": [
    "### (optional) Hebrew text analysis - hebrew_tokenizer (Tokenizer for Hebrew)\n",
    "Note: the hebrew_tokenizer is not a must"
   ]
  },
  {
   "cell_type": "markdown",
   "metadata": {},
   "source": [
    "#### (optional) Only if you didn't install hebrew_tokenizer use:"
   ]
  },
  {
   "cell_type": "code",
   "execution_count": 5,
   "metadata": {},
   "outputs": [],
   "source": [
    "# Hebrew tokenizer installation:\n",
    "\n",
    "# unmark if you want to use and need to install:\n",
    "# !pip install hebrew_tokenizer"
   ]
  },
  {
   "cell_type": "code",
   "execution_count": 6,
   "metadata": {},
   "outputs": [],
   "source": [
    "# Hebrew tokenizer import:\n",
    "\n",
    "# unmark if you want to use:\n",
    "# import hebrew_tokenizer as ht"
   ]
  },
  {
   "cell_type": "code",
   "execution_count": null,
   "metadata": {},
   "outputs": [],
   "source": []
  },
  {
   "cell_type": "markdown",
   "metadata": {},
   "source": [
    "### Reading input files\n",
    "Reading input files for train annotated corpus (raw text data) corpus and for the test corpus"
   ]
  },
  {
   "cell_type": "code",
   "execution_count": 34,
   "metadata": {},
   "outputs": [],
   "source": [
    "train_filename = 'annotated_corpus_for_train.csv'\n",
    "test_filename  = 'corpus_for_test.csv'\n",
    "df_train = pd.read_csv(train_filename, index_col=None, encoding='utf-8')\n",
    "df_test  = pd.read_csv(test_filename, index_col=None, encoding='utf-8')"
   ]
  },
  {
   "cell_type": "code",
   "execution_count": 47,
   "metadata": {},
   "outputs": [
    {
     "data": {
      "text/html": [
       "<div>\n",
       "<style scoped>\n",
       "    .dataframe tbody tr th:only-of-type {\n",
       "        vertical-align: middle;\n",
       "    }\n",
       "\n",
       "    .dataframe tbody tr th {\n",
       "        vertical-align: top;\n",
       "    }\n",
       "\n",
       "    .dataframe thead th {\n",
       "        text-align: right;\n",
       "    }\n",
       "</style>\n",
       "<table border=\"1\" class=\"dataframe\">\n",
       "  <thead>\n",
       "    <tr style=\"text-align: right;\">\n",
       "      <th></th>\n",
       "      <th>story</th>\n",
       "      <th>gender</th>\n",
       "    </tr>\n",
       "  </thead>\n",
       "  <tbody>\n",
       "    <tr>\n",
       "      <th>0</th>\n",
       "      <td>כשחבר הזמין אותי לחול, לא באמת חשבתי שזה יקרה,...</td>\n",
       "      <td>m</td>\n",
       "    </tr>\n",
       "    <tr>\n",
       "      <th>1</th>\n",
       "      <td>לפני שהתגייסתי לצבא עשיתי כל מני מיונים ליחידו...</td>\n",
       "      <td>m</td>\n",
       "    </tr>\n",
       "    <tr>\n",
       "      <th>2</th>\n",
       "      <td>מאז שהתחילו הלימודים חלומו של כל סטודנט זה הפנ...</td>\n",
       "      <td>f</td>\n",
       "    </tr>\n",
       "    <tr>\n",
       "      <th>3</th>\n",
       "      <td>כשהייתי ילד, מטוסים היה הדבר שהכי ריתק אותי. ב...</td>\n",
       "      <td>m</td>\n",
       "    </tr>\n",
       "    <tr>\n",
       "      <th>4</th>\n",
       "      <td>‏הייתי מדריכה בכפר נוער ומתאם הכפר היינו צריכי...</td>\n",
       "      <td>f</td>\n",
       "    </tr>\n",
       "    <tr>\n",
       "      <th>5</th>\n",
       "      <td>לפני כ3 חודשים טסתי לרומא למשך שבוע. טסתי במטו...</td>\n",
       "      <td>f</td>\n",
       "    </tr>\n",
       "    <tr>\n",
       "      <th>6</th>\n",
       "      <td>אני כבר שנתיים נשוי והשנה אני ואישתי סוף סוף י...</td>\n",
       "      <td>m</td>\n",
       "    </tr>\n",
       "    <tr>\n",
       "      <th>7</th>\n",
       "      <td>השנה התחלנו שיפוץ בדירה שלנו בתל אביב. הדירה ה...</td>\n",
       "      <td>f</td>\n",
       "    </tr>\n",
       "  </tbody>\n",
       "</table>\n",
       "</div>"
      ],
      "text/plain": [
       "                                               story gender\n",
       "0  כשחבר הזמין אותי לחול, לא באמת חשבתי שזה יקרה,...      m\n",
       "1  לפני שהתגייסתי לצבא עשיתי כל מני מיונים ליחידו...      m\n",
       "2  מאז שהתחילו הלימודים חלומו של כל סטודנט זה הפנ...      f\n",
       "3  כשהייתי ילד, מטוסים היה הדבר שהכי ריתק אותי. ב...      m\n",
       "4  ‏הייתי מדריכה בכפר נוער ומתאם הכפר היינו צריכי...      f\n",
       "5  לפני כ3 חודשים טסתי לרומא למשך שבוע. טסתי במטו...      f\n",
       "6  אני כבר שנתיים נשוי והשנה אני ואישתי סוף סוף י...      m\n",
       "7  השנה התחלנו שיפוץ בדירה שלנו בתל אביב. הדירה ה...      f"
      ]
     },
     "execution_count": 47,
     "metadata": {},
     "output_type": "execute_result"
    },
    {
     "data": {
      "text/plain": [
       "(753, 2)"
      ]
     },
     "execution_count": 47,
     "metadata": {},
     "output_type": "execute_result"
    }
   ],
   "source": [
    "df_train.head(8)\n",
    "df_train.shape"
   ]
  },
  {
   "cell_type": "code",
   "execution_count": 36,
   "metadata": {},
   "outputs": [
    {
     "data": {
      "text/html": [
       "<div>\n",
       "<style scoped>\n",
       "    .dataframe tbody tr th:only-of-type {\n",
       "        vertical-align: middle;\n",
       "    }\n",
       "\n",
       "    .dataframe tbody tr th {\n",
       "        vertical-align: top;\n",
       "    }\n",
       "\n",
       "    .dataframe thead th {\n",
       "        text-align: right;\n",
       "    }\n",
       "</style>\n",
       "<table border=\"1\" class=\"dataframe\">\n",
       "  <thead>\n",
       "    <tr style=\"text-align: right;\">\n",
       "      <th></th>\n",
       "      <th>test_example_id</th>\n",
       "      <th>story</th>\n",
       "    </tr>\n",
       "  </thead>\n",
       "  <tbody>\n",
       "    <tr>\n",
       "      <th>0</th>\n",
       "      <td>0</td>\n",
       "      <td>כל קיץ אני והמשפחה נוסעים לארצות הברית לוס אנג...</td>\n",
       "    </tr>\n",
       "    <tr>\n",
       "      <th>1</th>\n",
       "      <td>1</td>\n",
       "      <td>הגעתי לשירות המדינה אחרי שנתיים כפעיל בתנועת \"...</td>\n",
       "    </tr>\n",
       "    <tr>\n",
       "      <th>2</th>\n",
       "      <td>2</td>\n",
       "      <td>אחת האהבות הגדולות שלי אלו הכלבים שלי ושל אישת...</td>\n",
       "    </tr>\n",
       "  </tbody>\n",
       "</table>\n",
       "</div>"
      ],
      "text/plain": [
       "   test_example_id                                              story\n",
       "0                0  כל קיץ אני והמשפחה נוסעים לארצות הברית לוס אנג...\n",
       "1                1  הגעתי לשירות המדינה אחרי שנתיים כפעיל בתנועת \"...\n",
       "2                2  אחת האהבות הגדולות שלי אלו הכלבים שלי ושל אישת..."
      ]
     },
     "execution_count": 36,
     "metadata": {},
     "output_type": "execute_result"
    },
    {
     "data": {
      "text/plain": [
       "(323, 2)"
      ]
     },
     "execution_count": 36,
     "metadata": {},
     "output_type": "execute_result"
    }
   ],
   "source": [
    "df_test.head(3)\n",
    "df_test.shape"
   ]
  },
  {
   "cell_type": "markdown",
   "metadata": {},
   "source": [
    "### Your implementation:\n",
    "Write your code solution in the following code-cells"
   ]
  },
  {
   "cell_type": "markdown",
   "metadata": {},
   "source": [
    "### Function for cleaning the text and setup the training set\n",
    "- Cleaning numbers and spaces from the text"
   ]
  },
  {
   "cell_type": "code",
   "execution_count": 37,
   "metadata": {},
   "outputs": [],
   "source": [
    "# Remove numbers , spaces and leading and trailing spaces (Spaces and numbers)\n",
    "def text_cleaning(text):\n",
    "    text = text.strip()\n",
    "    text = re.sub(r'\\s+', ' ', text)\n",
    "    text = re.sub(r'\\d+', '', text)\n",
    "    text = re.sub(r'[^\\w\\s]', '', text)\n",
    "    \n",
    "    return text"
   ]
  },
  {
   "cell_type": "markdown",
   "metadata": {},
   "source": [
    "### Models and parameters \n",
    "- Defining a Dictionary with all the models we will be training\n",
    "- Defining a Dictionary with all the parameters we will use to tune the models"
   ]
  },
  {
   "cell_type": "code",
   "execution_count": 38,
   "metadata": {},
   "outputs": [],
   "source": [
    "models_list = {\n",
    "    'Perceptron':Perceptron(),\n",
    "    'SGDClassifier':SGDClassifier(),\n",
    "    'lr': LogisticRegression(),\n",
    "    'svm': SVC(),\n",
    "    'knn': KNeighborsClassifier(),\n",
    "    'cart': DecisionTreeClassifier(),\n",
    "    'LinearSVC':LinearSVC(),\n",
    "    'MLPClassifier':MLPClassifier()\n",
    "}\n",
    "\n",
    "params = {\n",
    "    'Perceptron': {'alpha': [0.0001, 0.05], 'penalty': [None, 'l2', 'l1', 'elasticnet']},\n",
    "    'SGDClassifier': {'loss': ['hinge', 'log', 'modified_huber', 'squared_hinge', 'perceptron'],\n",
    "                            'penalty': ['l2', 'l1', 'elasticnet'],\n",
    "                            'alpha': [0.0001, 0.05]} ,\n",
    "    'lr': {'C': [0.01, 0.1, 1, 10, 100], 'penalty': ['l1', 'l2']},\n",
    "    'svm': {'C': [0.01, 0.1, 1, 10, 100], 'kernel': ['linear', 'rbf']},\n",
    "    'knn': {'n_neighbors': [3, 5, 7], 'weights': ['uniform', 'distance']},\n",
    "    'cart': {'max_depth': [3, 5, 7], 'criterion': ['gini', 'entropy']},\n",
    "    'LinearSVC': {'C': [0.01, 0.1, 1, 10, 100], 'penalty': ['l1', 'l2'], 'dual': [False]},\n",
    "    'MLPClassifier': {'hidden_layer_sizes': [(50,50,50), (50,100,50), (100,)],\n",
    "                        'activation': ['tanh', 'relu'],\n",
    "                        'solver': ['sgd', 'adam'],\n",
    "                        'alpha': [0.0001, 0.05],\n",
    "                        'learning_rate': ['constant','adaptive']}\n",
    "}"
   ]
  },
  {
   "cell_type": "markdown",
   "metadata": {},
   "source": [
    "### Functions for models and parameters\n",
    "- Defining a function that returns a dictionary with all the models with the input parameters\n",
    "- Defining a function that finds the best parameters for each model using GridSearchCV"
   ]
  },
  {
   "cell_type": "code",
   "execution_count": 39,
   "metadata": {},
   "outputs": [],
   "source": [
    "def get_models(params):\n",
    "    models = dict()\n",
    "    models['Perceptron'] = Perceptron(**params['Perceptron'])\n",
    "    models['SGDClassifier'] = SGDClassifier(**params['SGDClassifier'])\n",
    "    models['lr'] = LogisticRegression(**params['lr'])\n",
    "    models['svm'] = SVC(**params['svm'])\n",
    "    models['knn'] = KNeighborsClassifier(**params['knn'])\n",
    "    models['cart'] = DecisionTreeClassifier(**params['cart'])\n",
    "    models['LinearSVC'] = LinearSVC(**params['LinearSVC'])\n",
    "    models['MLPClassifier'] = MLPClassifier(**params['MLPClassifier'])\n",
    "\n",
    "    return models\n",
    "\n",
    "# finding the best parameters for each model\n",
    "def find_best_params(models , X_train_selected ,y_train ):\n",
    "    best_params = {}\n",
    "    for name, model in models.items():\n",
    "        clf = GridSearchCV(model, params[name], cv=5, n_jobs=-1) #Using GridSearch to find best params\n",
    "        clf.fit(X_train_selected, y_train)\n",
    "        best_params[name] = clf.best_params_\n",
    "        \n",
    "    return best_params"
   ]
  },
  {
   "cell_type": "markdown",
   "metadata": {},
   "source": [
    "### Model Evaluation\n",
    "- Defining a function that evaluate the model and returns its score"
   ]
  },
  {
   "cell_type": "code",
   "execution_count": 40,
   "metadata": {},
   "outputs": [],
   "source": [
    "# evaluate models using cross-validation with diffrent params\n",
    "def model_evaluation(model,X_train_selected, X_test_selected  ,y_train, y_test):\n",
    "    model_train = model.fit(X_train_selected , y_train)\n",
    "\n",
    "    cv = RepeatedKFold(n_splits=5, n_repeats=3, random_state=42)\n",
    "    scores = cross_val_score(model_train, X_test_selected, y_test, scoring='accuracy', cv=cv, n_jobs=-1  )\n",
    "\n",
    "    y_pred = model_train.predict(X_test_selected)\n",
    "    print(model_train)\n",
    "    \n",
    "    f1_male = f1_score(y_test, y_pred, pos_label='m')\n",
    "    f1_female = f1_score(y_test, y_pred, pos_label='f')\n",
    "    average_f1=(f1_male + f1_female)/2\n",
    "    \n",
    "    evalutaion = dict()\n",
    "    evalutaion['Accuracy'] = mean(scores)\n",
    "    evalutaion['F1 Male Score'] = f1_male\n",
    "    evalutaion['F1 Female Score'] = f1_female\n",
    "    evalutaion['scores'] = scores\n",
    "    evalutaion['average_f1'] = average_f1\n",
    "    evalutaion['model'] = model_train\n",
    "    \n",
    "    return evalutaion"
   ]
  },
  {
   "cell_type": "markdown",
   "metadata": {},
   "source": [
    "### Results\n",
    "- Setup the training set by applying the text_cleaning, vectorizer, SelectKBest, MinMaxScaler\n",
    "- Iterating through each model and printing score results"
   ]
  },
  {
   "cell_type": "code",
   "execution_count": 41,
   "metadata": {
    "scrolled": false
   },
   "outputs": [
    {
     "data": {
      "text/plain": [
       "SelectKBest(k=1000,\n",
       "            score_func=<function mutual_info_classif at 0x000002B30CF715E0>)"
      ]
     },
     "execution_count": 41,
     "metadata": {},
     "output_type": "execute_result"
    },
    {
     "name": "stdout",
     "output_type": "stream",
     "text": [
      "Perceptron()\n",
      "Perceptron Accuracy: 0.771\n",
      "F1 Female Score : 0.629\n",
      "F1 Male Score : 0.888\n",
      "\u001b[1maverage_F1 Score : 0.758\n",
      "\n",
      "-------------\n",
      "\u001b[0m\n",
      "SGDClassifier(loss='modified_huber', penalty='elasticnet')\n",
      "SGDClassifier Accuracy: 0.744\n",
      "F1 Female Score : 0.517\n",
      "F1 Male Score : 0.885\n",
      "\u001b[1maverage_F1 Score : 0.701\n",
      "\n",
      "-------------\n",
      "\u001b[0m\n",
      "LogisticRegression(C=1)\n",
      "lr Accuracy: 0.759\n",
      "F1 Female Score : 0.444\n",
      "F1 Male Score : 0.879\n",
      "\u001b[1maverage_F1 Score : 0.662\n",
      "\n",
      "-------------\n",
      "\u001b[0m\n",
      "SVC(C=0.1, kernel='linear')\n",
      "svm Accuracy: 0.766\n",
      "F1 Female Score : 0.456\n",
      "F1 Male Score : 0.873\n",
      "\u001b[1maverage_F1 Score : 0.665\n",
      "\n",
      "-------------\n",
      "\u001b[0m\n",
      "KNeighborsClassifier(weights='distance')\n",
      "knn Accuracy: 0.753\n",
      "F1 Female Score : 0.000\n",
      "F1 Male Score : 0.860\n",
      "\u001b[1maverage_F1 Score : 0.430\n",
      "\n",
      "-------------\n",
      "\u001b[0m\n",
      "DecisionTreeClassifier(criterion='entropy', max_depth=3)\n",
      "cart Accuracy: 0.697\n",
      "F1 Female Score : 0.423\n",
      "F1 Male Score : 0.880\n",
      "\u001b[1maverage_F1 Score : 0.652\n",
      "\n",
      "-------------\n",
      "\u001b[0m\n",
      "LinearSVC(C=1, dual=False)\n",
      "LinearSVC Accuracy: 0.771\n",
      "F1 Female Score : 0.478\n",
      "F1 Male Score : 0.851\n",
      "\u001b[1maverage_F1 Score : 0.664\n",
      "\n",
      "-------------\n",
      "\u001b[0m\n",
      "MLPClassifier(alpha=0.05, hidden_layer_sizes=(50, 50, 50))\n",
      "MLPClassifier Accuracy: 0.759\n",
      "F1 Female Score : 0.507\n",
      "F1 Male Score : 0.860\n",
      "\u001b[1maverage_F1 Score : 0.684\n",
      "\n",
      "-------------\n",
      "\u001b[0m\n",
      "The best model is: Perceptron\n",
      "With 0.758 average_f1 score.\n"
     ]
    }
   ],
   "source": [
    "df = pd.read_csv(train_filename, index_col=None, encoding='utf-8')\n",
    "df['story'] = df['story'].apply(text_cleaning) #cleaning the story column\n",
    "    \n",
    "X_train, X_test, y_train, y_test = train_test_split(df['story'], df['gender'], test_size=0.2, random_state=42)\n",
    "\n",
    "vectorizer = TfidfVectorizer(min_df= 5 ,ngram_range= (1,1)) #TfidVectorizer setup\n",
    "\n",
    "X_train_after_vect = vectorizer.fit_transform(X_train)\n",
    "X_test_after_vect = vectorizer.transform(X_test)\n",
    "\n",
    "selector = SelectKBest(mutual_info_classif, k=1000) #Select features according to the k highest scores using mutual info\n",
    "selector.fit(X_train_after_vect, y_train)\n",
    "\n",
    "X_train_after_selection = selector.transform(X_train_after_vect) # Apply feature selection\n",
    "X_test_after_selection = selector.transform(X_test_after_vect) # Apply feature selection\n",
    "    \n",
    "scaler = MinMaxScaler()\n",
    "X_train_final = scaler.fit_transform(X_train_after_selection.toarray())\n",
    "X_test_final = scaler.transform(X_test_after_selection.toarray())\n",
    "\n",
    "best_params = find_best_params(models_list , X_train_final ,y_train ) #finding best params\n",
    "\n",
    "models = get_models(best_params) #getting models with best params\n",
    "\n",
    "# models evaluation and printing results\n",
    "score = {}\n",
    "best_score = 0\n",
    "best_model = ''\n",
    "for name, model in models.items():\n",
    "    scores = model_evaluation(model, X_train_final, X_test_final, y_train, y_test)\n",
    "    score[name] = scores\n",
    "    if(best_score < scores['average_f1']):\n",
    "        best_score = scores['average_f1']\n",
    "        best_model = name\n",
    "    print('%s Accuracy: %.3f' % (name, scores['Accuracy']))\n",
    "    print('F1 Female Score : %.3f' % (scores['F1 Female Score']))\n",
    "    print('F1 Male Score : %.3f' % (scores['F1 Male Score']))\n",
    "    print('\\033[1m' + 'average_F1 Score : %.3f\\n\\n-------------\\n' % (scores['average_f1']) + '\\033[0m')\n",
    "    \n",
    "print('The best model is: %s' % (best_model))\n",
    "print('With %.3f average_f1 score.' % (best_score))\n"
   ]
  },
  {
   "cell_type": "markdown",
   "metadata": {},
   "source": [
    "### Predicting the test data\n",
    "After we saw the Perceptron model gave us the best score we will choose it to be the best model to predict the test data\n",
    "We will show the other models predictions as well."
   ]
  },
  {
   "cell_type": "code",
   "execution_count": 46,
   "metadata": {
    "scrolled": false
   },
   "outputs": [
    {
     "data": {
      "text/html": [
       "<div>\n",
       "<style scoped>\n",
       "    .dataframe tbody tr th:only-of-type {\n",
       "        vertical-align: middle;\n",
       "    }\n",
       "\n",
       "    .dataframe tbody tr th {\n",
       "        vertical-align: top;\n",
       "    }\n",
       "\n",
       "    .dataframe thead th {\n",
       "        text-align: right;\n",
       "    }\n",
       "</style>\n",
       "<table border=\"1\" class=\"dataframe\">\n",
       "  <thead>\n",
       "    <tr style=\"text-align: right;\">\n",
       "      <th></th>\n",
       "      <th>m</th>\n",
       "      <th>f</th>\n",
       "    </tr>\n",
       "  </thead>\n",
       "  <tbody>\n",
       "    <tr>\n",
       "      <th>Perceptron</th>\n",
       "      <td>187</td>\n",
       "      <td>136.000</td>\n",
       "    </tr>\n",
       "    <tr>\n",
       "      <th>SGDClassifier</th>\n",
       "      <td>242</td>\n",
       "      <td>81.000</td>\n",
       "    </tr>\n",
       "    <tr>\n",
       "      <th>lr</th>\n",
       "      <td>275</td>\n",
       "      <td>48.000</td>\n",
       "    </tr>\n",
       "    <tr>\n",
       "      <th>svm</th>\n",
       "      <td>291</td>\n",
       "      <td>32.000</td>\n",
       "    </tr>\n",
       "    <tr>\n",
       "      <th>knn</th>\n",
       "      <td>323</td>\n",
       "      <td>NaN</td>\n",
       "    </tr>\n",
       "    <tr>\n",
       "      <th>cart</th>\n",
       "      <td>286</td>\n",
       "      <td>37.000</td>\n",
       "    </tr>\n",
       "    <tr>\n",
       "      <th>LinearSVC</th>\n",
       "      <td>187</td>\n",
       "      <td>136.000</td>\n",
       "    </tr>\n",
       "    <tr>\n",
       "      <th>MLPClassifier</th>\n",
       "      <td>184</td>\n",
       "      <td>139.000</td>\n",
       "    </tr>\n",
       "  </tbody>\n",
       "</table>\n",
       "</div>"
      ],
      "text/plain": [
       "                 m       f\n",
       "Perceptron     187 136.000\n",
       "SGDClassifier  242  81.000\n",
       "lr             275  48.000\n",
       "svm            291  32.000\n",
       "knn            323     NaN\n",
       "cart           286  37.000\n",
       "LinearSVC      187 136.000\n",
       "MLPClassifier  184 139.000"
      ]
     },
     "metadata": {},
     "output_type": "display_data"
    },
    {
     "data": {
      "text/html": [
       "<div>\n",
       "<style scoped>\n",
       "    .dataframe tbody tr th:only-of-type {\n",
       "        vertical-align: middle;\n",
       "    }\n",
       "\n",
       "    .dataframe tbody tr th {\n",
       "        vertical-align: top;\n",
       "    }\n",
       "\n",
       "    .dataframe thead th {\n",
       "        text-align: right;\n",
       "    }\n",
       "</style>\n",
       "<table border=\"1\" class=\"dataframe\">\n",
       "  <thead>\n",
       "    <tr style=\"text-align: right;\">\n",
       "      <th></th>\n",
       "      <th>story</th>\n",
       "      <th>predicted gender</th>\n",
       "    </tr>\n",
       "  </thead>\n",
       "  <tbody>\n",
       "    <tr>\n",
       "      <th>0</th>\n",
       "      <td>כל קיץ אני והמשפחה נוסעים לארצות הברית לוס אנג...</td>\n",
       "      <td>m</td>\n",
       "    </tr>\n",
       "    <tr>\n",
       "      <th>1</th>\n",
       "      <td>הגעתי לשירות המדינה אחרי שנתיים כפעיל בתנועת י...</td>\n",
       "      <td>m</td>\n",
       "    </tr>\n",
       "    <tr>\n",
       "      <th>2</th>\n",
       "      <td>אחת האהבות הגדולות שלי אלו הכלבים שלי ושל אישת...</td>\n",
       "      <td>m</td>\n",
       "    </tr>\n",
       "    <tr>\n",
       "      <th>3</th>\n",
       "      <td>רגע הגיוס לצבא היה הרגע הכי משמעותי עבורי אני ...</td>\n",
       "      <td>f</td>\n",
       "    </tr>\n",
       "    <tr>\n",
       "      <th>4</th>\n",
       "      <td>אני הגעתי לברזיל ישר מקולומביה וגם אני עשיתי ע...</td>\n",
       "      <td>m</td>\n",
       "    </tr>\n",
       "    <tr>\n",
       "      <th>...</th>\n",
       "      <td>...</td>\n",
       "      <td>...</td>\n",
       "    </tr>\n",
       "    <tr>\n",
       "      <th>318</th>\n",
       "      <td>בשנה האחרונה הרגשתי די תקוע בעבודה השגרה הפכה ...</td>\n",
       "      <td>m</td>\n",
       "    </tr>\n",
       "    <tr>\n",
       "      <th>319</th>\n",
       "      <td>אני ואילן חברים טובים מזה  שנה תמיד חלמנו לפתח...</td>\n",
       "      <td>f</td>\n",
       "    </tr>\n",
       "    <tr>\n",
       "      <th>320</th>\n",
       "      <td>מידי יום שישי אני נוהג לנסוע בתחבורה ציבורית ס...</td>\n",
       "      <td>f</td>\n",
       "    </tr>\n",
       "    <tr>\n",
       "      <th>321</th>\n",
       "      <td>לפני מספר חודשים בשיא התחלואה של הגל השני עמית...</td>\n",
       "      <td>m</td>\n",
       "    </tr>\n",
       "    <tr>\n",
       "      <th>322</th>\n",
       "      <td>היום בו דיווחתי על גניבה של האוטו שלי בוקר אחד...</td>\n",
       "      <td>f</td>\n",
       "    </tr>\n",
       "  </tbody>\n",
       "</table>\n",
       "<p>323 rows × 2 columns</p>\n",
       "</div>"
      ],
      "text/plain": [
       "                                                 story predicted gender\n",
       "0    כל קיץ אני והמשפחה נוסעים לארצות הברית לוס אנג...                m\n",
       "1    הגעתי לשירות המדינה אחרי שנתיים כפעיל בתנועת י...                m\n",
       "2    אחת האהבות הגדולות שלי אלו הכלבים שלי ושל אישת...                m\n",
       "3    רגע הגיוס לצבא היה הרגע הכי משמעותי עבורי אני ...                f\n",
       "4    אני הגעתי לברזיל ישר מקולומביה וגם אני עשיתי ע...                m\n",
       "..                                                 ...              ...\n",
       "318  בשנה האחרונה הרגשתי די תקוע בעבודה השגרה הפכה ...                m\n",
       "319  אני ואילן חברים טובים מזה  שנה תמיד חלמנו לפתח...                f\n",
       "320  מידי יום שישי אני נוהג לנסוע בתחבורה ציבורית ס...                f\n",
       "321  לפני מספר חודשים בשיא התחלואה של הגל השני עמית...                m\n",
       "322  היום בו דיווחתי על גניבה של האוטו שלי בוקר אחד...                f\n",
       "\n",
       "[323 rows x 2 columns]"
      ]
     },
     "metadata": {},
     "output_type": "display_data"
    }
   ],
   "source": [
    "#Setting up the test data\n",
    "df = pd.read_csv(test_filename, index_col=None, encoding='utf-8')\n",
    "df['story'] = df['story'].apply(text_cleaning) #cleaning the story column\n",
    "vectorizer = TfidfVectorizer(min_df=5, ngram_range=(1,1)) #TFidVectorizer setup\n",
    "\n",
    "X_testdata = df['story']\n",
    "X_testdata_after_vect = vectorizer.fit_transform(X_testdata)\n",
    "        \n",
    "selector = SelectKBest(mutual_info_classif, k=1000) #Select features according to the k highest scores using mutual info\n",
    "X_testdata_after_selection = selector.fit_transform(X_testdata_after_vect, np.zeros(X_testdata_after_vect.shape[0]))\n",
    "\n",
    "scaler = MinMaxScaler()\n",
    "X_test_final = scaler.fit_transform(X_testdata_after_selection.toarray())\n",
    "story_column = df['story']\n",
    "\n",
    "#Test data prediction\n",
    "df = pd.DataFrame()\n",
    "df_predict_dict = {}\n",
    "for mod in score:\n",
    "    y_pred = score[mod]['model'].predict(X_test_final)\n",
    "    df_predict = pd.DataFrame({'story': story_column, 'predicted gender': y_pred})\n",
    "    df = df.append(df_predict['predicted gender'].value_counts(),ignore_index=True)\n",
    "    if(mod == 'Perceptron'):\n",
    "        df_predict_dict = df_predict\n",
    "        \n",
    "df = df.rename({0: 'Perceptron', 1: 'SGDClassifier', 2: 'lr', 3: 'svm', 4: 'knn', 5: 'cart', 6: 'LinearSVC', 7: 'MLPClassifier'})\n",
    "display(df)\n",
    "\n",
    "display(df_predict_dict)\n",
    "df_predicted = df_predict_dict\n"
   ]
  },
  {
   "cell_type": "markdown",
   "metadata": {},
   "source": [
    "### Save output to csv (optional)\n",
    "After you're done save your output to the 'classification_results.csv' csv file.<br/>\n",
    "We assume that the dataframe with your results contain the following columns:\n",
    "* column 1 (left column): 'test_example_id'  - the same id associated to each of the test stories to be predicted.\n",
    "* column 2 (right column): 'predicted_category' - the predicted gender value for each of the associated story. \n",
    "\n",
    "Assuming your predicted values are in the `df_predicted` dataframe, you should save you're results as following:"
   ]
  },
  {
   "cell_type": "code",
   "execution_count": 23,
   "metadata": {},
   "outputs": [],
   "source": [
    "df_predicted.to_csv('classification_results.csv',index=False)"
   ]
  }
 ],
 "metadata": {
  "celltoolbar": "Create Assignment",
  "kernelspec": {
   "display_name": "Python 3 (ipykernel)",
   "language": "python",
   "name": "python3"
  },
  "language_info": {
   "codemirror_mode": {
    "name": "ipython",
    "version": 3
   },
   "file_extension": ".py",
   "mimetype": "text/x-python",
   "name": "python",
   "nbconvert_exporter": "python",
   "pygments_lexer": "ipython3",
   "version": "3.9.13"
  }
 },
 "nbformat": 4,
 "nbformat_minor": 4
}
